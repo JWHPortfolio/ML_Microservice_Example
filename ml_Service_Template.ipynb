{
 "cells": [
  {
   "cell_type": "markdown",
   "id": "919fd7e5",
   "metadata": {},
   "source": [
    "## Install Flask to enable network communication (micro-services)"
   ]
  },
  {
   "cell_type": "code",
   "execution_count": 3,
   "id": "a08f0159",
   "metadata": {},
   "outputs": [
    {
     "name": "stdout",
     "output_type": "stream",
     "text": [
      "Collecting flask\n",
      "  Downloading flask-2.3.3-py3-none-any.whl (96 kB)\n",
      "\u001b[2K     \u001b[90m━━━━━━━━━━━━━━━━━━━━━━━━━━━━━━━━━━━━━━━━\u001b[0m \u001b[32m96.1/96.1 kB\u001b[0m \u001b[31m1.4 MB/s\u001b[0m eta \u001b[36m0:00:00\u001b[0ma \u001b[36m0:00:01\u001b[0m\n",
      "\u001b[?25hCollecting Werkzeug>=2.3.7 (from flask)\n",
      "  Downloading werkzeug-2.3.7-py3-none-any.whl (242 kB)\n",
      "\u001b[2K     \u001b[90m━━━━━━━━━━━━━━━━━━━━━━━━━━━━━━━━━━━━━━━\u001b[0m \u001b[32m242.2/242.2 kB\u001b[0m \u001b[31m3.7 MB/s\u001b[0m eta \u001b[36m0:00:00\u001b[0ma \u001b[36m0:00:01\u001b[0m\n",
      "\u001b[?25hRequirement already satisfied: Jinja2>=3.1.2 in /usr/local/lib/python3.10/dist-packages (from flask) (3.1.2)\n",
      "Collecting itsdangerous>=2.1.2 (from flask)\n",
      "  Downloading itsdangerous-2.1.2-py3-none-any.whl (15 kB)\n",
      "Requirement already satisfied: click>=8.1.3 in /usr/local/lib/python3.10/dist-packages (from flask) (8.1.3)\n",
      "Collecting blinker>=1.6.2 (from flask)\n",
      "  Downloading blinker-1.6.2-py3-none-any.whl (13 kB)\n",
      "Requirement already satisfied: MarkupSafe>=2.0 in /usr/local/lib/python3.10/dist-packages (from Jinja2>=3.1.2->flask) (2.1.3)\n",
      "Installing collected packages: Werkzeug, itsdangerous, blinker, flask\n",
      "  Attempting uninstall: Werkzeug\n",
      "    Found existing installation: Werkzeug 2.3.6\n",
      "    Uninstalling Werkzeug-2.3.6:\n",
      "      Successfully uninstalled Werkzeug-2.3.6\n",
      "Successfully installed Werkzeug-2.3.7 blinker-1.6.2 flask-2.3.3 itsdangerous-2.1.2\n",
      "\u001b[33mWARNING: Running pip as the 'root' user can result in broken permissions and conflicting behaviour with the system package manager. It is recommended to use a virtual environment instead: https://pip.pypa.io/warnings/venv\u001b[0m\u001b[33m\n",
      "\u001b[0m"
     ]
    }
   ],
   "source": [
    "!pip install flask"
   ]
  },
  {
   "cell_type": "markdown",
   "id": "63dd03e4",
   "metadata": {},
   "source": [
    "## Bring in Python Code"
   ]
  },
  {
   "cell_type": "code",
   "execution_count": 1,
   "id": "bdc9b076",
   "metadata": {},
   "outputs": [],
   "source": [
    "from randomforest import randomforest\n",
    "rf = randomforest()"
   ]
  },
  {
   "cell_type": "markdown",
   "id": "98f29272",
   "metadata": {},
   "source": [
    "### Test Model first - Get stats"
   ]
  },
  {
   "cell_type": "code",
   "execution_count": 2,
   "id": "7a812c3d",
   "metadata": {},
   "outputs": [
    {
     "name": "stdout",
     "output_type": "stream",
     "text": [
      "Model Learning\n"
     ]
    },
    {
     "data": {
      "text/plain": [
       "'0.91'"
      ]
     },
     "execution_count": 2,
     "metadata": {},
     "output_type": "execute_result"
    }
   ],
   "source": [
    "rf.model_stats()"
   ]
  },
  {
   "cell_type": "markdown",
   "id": "a8e9c3fa",
   "metadata": {},
   "source": [
    "### Get Determination"
   ]
  },
  {
   "cell_type": "code",
   "execution_count": 4,
   "id": "28665d9f",
   "metadata": {},
   "outputs": [
    {
     "data": {
      "text/plain": [
       "'No, a Bad Candidate'"
      ]
     },
     "execution_count": 4,
     "metadata": {},
     "output_type": "execute_result"
    }
   ],
   "source": [
    "rf.model_infer( 40,30000)"
   ]
  },
  {
   "cell_type": "markdown",
   "id": "6054620a",
   "metadata": {},
   "source": [
    "### Start up the service"
   ]
  },
  {
   "cell_type": "code",
   "execution_count": null,
   "id": "218e9887",
   "metadata": {},
   "outputs": [],
   "source": [
    "!python ml_Service_Template.py"
   ]
  }
 ],
 "metadata": {
  "kernelspec": {
   "display_name": "Python 3 (ipykernel)",
   "language": "python",
   "name": "python3"
  },
  "language_info": {
   "codemirror_mode": {
    "name": "ipython",
    "version": 3
   },
   "file_extension": ".py",
   "mimetype": "text/x-python",
   "name": "python",
   "nbconvert_exporter": "python",
   "pygments_lexer": "ipython3",
   "version": "3.10.6"
  }
 },
 "nbformat": 4,
 "nbformat_minor": 5
}
