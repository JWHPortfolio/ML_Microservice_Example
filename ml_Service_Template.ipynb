{
 "cells": [
  {
   "cell_type": "markdown",
   "id": "9e0e1b8d",
   "metadata": {},
   "source": [
    "## Install Flask to enable network communication (micro-services)"
   ]
  },
  {
   "cell_type": "code",
   "execution_count": 3,
   "id": "862b4a24",
   "metadata": {},
   "outputs": [
    {
     "name": "stdout",
     "output_type": "stream",
     "text": [
      "Collecting flask\n",
      "  Downloading flask-2.3.3-py3-none-any.whl (96 kB)\n",
      "\u001b[2K     \u001b[90m━━━━━━━━━━━━━━━━━━━━━━━━━━━━━━━━━━━━━━━━\u001b[0m \u001b[32m96.1/96.1 kB\u001b[0m \u001b[31m1.4 MB/s\u001b[0m eta \u001b[36m0:00:00\u001b[0ma \u001b[36m0:00:01\u001b[0m\n",
      "\u001b[?25hCollecting Werkzeug>=2.3.7 (from flask)\n",
      "  Downloading werkzeug-2.3.7-py3-none-any.whl (242 kB)\n",
      "\u001b[2K     \u001b[90m━━━━━━━━━━━━━━━━━━━━━━━━━━━━━━━━━━━━━━━\u001b[0m \u001b[32m242.2/242.2 kB\u001b[0m \u001b[31m3.7 MB/s\u001b[0m eta \u001b[36m0:00:00\u001b[0ma \u001b[36m0:00:01\u001b[0m\n",
      "\u001b[?25hRequirement already satisfied: Jinja2>=3.1.2 in /usr/local/lib/python3.10/dist-packages (from flask) (3.1.2)\n",
      "Collecting itsdangerous>=2.1.2 (from flask)\n",
      "  Downloading itsdangerous-2.1.2-py3-none-any.whl (15 kB)\n",
      "Requirement already satisfied: click>=8.1.3 in /usr/local/lib/python3.10/dist-packages (from flask) (8.1.3)\n",
      "Collecting blinker>=1.6.2 (from flask)\n",
      "  Downloading blinker-1.6.2-py3-none-any.whl (13 kB)\n",
      "Requirement already satisfied: MarkupSafe>=2.0 in /usr/local/lib/python3.10/dist-packages (from Jinja2>=3.1.2->flask) (2.1.3)\n",
      "Installing collected packages: Werkzeug, itsdangerous, blinker, flask\n",
      "  Attempting uninstall: Werkzeug\n",
      "    Found existing installation: Werkzeug 2.3.6\n",
      "    Uninstalling Werkzeug-2.3.6:\n",
      "      Successfully uninstalled Werkzeug-2.3.6\n",
      "Successfully installed Werkzeug-2.3.7 blinker-1.6.2 flask-2.3.3 itsdangerous-2.1.2\n",
      "\u001b[33mWARNING: Running pip as the 'root' user can result in broken permissions and conflicting behaviour with the system package manager. It is recommended to use a virtual environment instead: https://pip.pypa.io/warnings/venv\u001b[0m\u001b[33m\n",
      "\u001b[0m"
     ]
    }
   ],
   "source": [
    "!pip install flask"
   ]
  },
  {
   "cell_type": "markdown",
   "id": "a26fec42",
   "metadata": {},
   "source": [
    "## Bring in Random Forest Python Code\n",
    "![Random Forest](data:image/png;base64,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)"
   ]
  },
  {
   "cell_type": "code",
   "execution_count": 1,
   "id": "be9483ff",
   "metadata": {},
   "outputs": [],
   "source": [
    "from randomforest import randomforest\n",
    "rf = randomforest()"
   ]
  },
  {
   "cell_type": "markdown",
   "id": "6aef9dc6",
   "metadata": {},
   "source": [
    "### Test Model first - Get stats"
   ]
  },
  {
   "cell_type": "code",
   "execution_count": 2,
   "id": "421a2518",
   "metadata": {},
   "outputs": [
    {
     "name": "stdout",
     "output_type": "stream",
     "text": [
      "Model Learning\n"
     ]
    },
    {
     "data": {
      "text/plain": [
       "'0.91'"
      ]
     },
     "execution_count": 2,
     "metadata": {},
     "output_type": "execute_result"
    }
   ],
   "source": [
    "rf.model_stats()"
   ]
  },
  {
   "cell_type": "markdown",
   "id": "ac4292bc",
   "metadata": {},
   "source": [
    "### Get Determination"
   ]
  },
  {
   "cell_type": "code",
   "execution_count": 3,
   "id": "222fc068",
   "metadata": {},
   "outputs": [
    {
     "data": {
      "text/plain": [
       "'No, a Bad Candidate'"
      ]
     },
     "execution_count": 3,
     "metadata": {},
     "output_type": "execute_result"
    }
   ],
   "source": [
    "rf.model_infer( 40,30000)"
   ]
  },
  {
   "cell_type": "markdown",
   "id": "4f8c6a94",
   "metadata": {},
   "source": [
    "### Start up the service"
   ]
  },
  {
   "cell_type": "code",
   "execution_count": null,
   "id": "082dd8c9",
   "metadata": {},
   "outputs": [
    {
     "name": "stdout",
     "output_type": "stream",
     "text": [
      "starting server...\n",
      " * Serving Flask app 'ml_Service_Template'\n",
      " * Debug mode: off\n",
      "\u001b[31m\u001b[1mWARNING: This is a development server. Do not use it in a production deployment. Use a production WSGI server instead.\u001b[0m\n",
      " * Running on all addresses (0.0.0.0)\n",
      " * Running on http://127.0.0.1:8786\n",
      " * Running on http://172.17.0.3:8786\n",
      "\u001b[33mPress CTRL+C to quit\u001b[0m\n",
      "Model Learning\n",
      "172.17.0.1 - - [27/Aug/2023 18:56:54] \"GET /stats HTTP/1.1\" 200 -\n",
      "172.17.0.1 - - [27/Aug/2023 18:56:57] \"GET /infer?age=28&salary=40000 HTTP/1.1\" 200 -\n",
      "Name:  John  Location:  Ellicott City\n",
      "Image:  thread.jpg\n",
      "172.17.0.1 - - [27/Aug/2023 18:58:35] \"POST /post?name=John&location=Ellicott%20City HTTP/1.1\" 200 -\n"
     ]
    }
   ],
   "source": [
    "!python ml_Service_Template.py"
   ]
  },
  {
   "cell_type": "markdown",
   "id": "d1498b0d",
   "metadata": {},
   "source": [
    "Try out the links \n",
    "* [stats](http://localhost:8786/stats)\n",
    "* [determination](http://localhost:8786/infer?age=28&salary=40000)"
   ]
  },
  {
   "cell_type": "markdown",
   "id": "3667f95f",
   "metadata": {},
   "source": [
    "### You must kill the kernel to try again for the port stays locked to the current kernel"
   ]
  },
  {
   "cell_type": "code",
   "execution_count": null,
   "id": "0e40a857",
   "metadata": {},
   "outputs": [],
   "source": []
  }
 ],
 "metadata": {
  "kernelspec": {
   "display_name": "Python 3 (ipykernel)",
   "language": "python",
   "name": "python3"
  },
  "language_info": {
   "codemirror_mode": {
    "name": "ipython",
    "version": 3
   },
   "file_extension": ".py",
   "mimetype": "text/x-python",
   "name": "python",
   "nbconvert_exporter": "python",
   "pygments_lexer": "ipython3",
   "version": "3.10.6"
  }
 },
 "nbformat": 4,
 "nbformat_minor": 5
}
